{
 "cells": [
  {
   "cell_type": "code",
   "execution_count": 1,
   "id": "0e0affce",
   "metadata": {},
   "outputs": [],
   "source": [
    "from Crypto.PublicKey import RSA\n",
    "from Crypto.Hash import SHA256\n",
    "from Crypto.Hash import RIPEMD160\n",
    "\n",
    "from Crypto.Cipher import PKCS1_OAEP\n",
    "from Crypto.Signature.pkcs1_15 import PKCS115_SigScheme\n",
    "import base58 as b58"
   ]
  },
  {
   "cell_type": "markdown",
   "id": "482328c2",
   "metadata": {},
   "source": [
    "### Generate Private Key"
   ]
  },
  {
   "cell_type": "code",
   "execution_count": 2,
   "id": "0896f976",
   "metadata": {},
   "outputs": [],
   "source": [
    "pvt_key = RSA.generate(2048)"
   ]
  },
  {
   "cell_type": "code",
   "execution_count": 3,
   "id": "c5d78492",
   "metadata": {},
   "outputs": [
    {
     "data": {
      "text/plain": [
       "True"
      ]
     },
     "execution_count": 3,
     "metadata": {},
     "output_type": "execute_result"
    }
   ],
   "source": [
    "pvt_key.has_private()"
   ]
  },
  {
   "cell_type": "code",
   "execution_count": 4,
   "id": "879f1df9",
   "metadata": {},
   "outputs": [],
   "source": [
    "# Write RSA Private Key to disk\n",
    "\n",
    "f = open('pvt_key.pem','wb')\n",
    "f.write(pvt_key.export_key('PEM'))\n",
    "f.close()"
   ]
  },
  {
   "cell_type": "code",
   "execution_count": 5,
   "id": "0d517763",
   "metadata": {},
   "outputs": [],
   "source": [
    "# Read saved RSA Private Key from disk\n",
    "\n",
    "f = open('pvt_key.pem','r')\n",
    "pvt_key = RSA.import_key(f.read())\n",
    "f.close()"
   ]
  },
  {
   "cell_type": "markdown",
   "id": "1bbc4cff",
   "metadata": {},
   "source": [
    "### Generate Public Key"
   ]
  },
  {
   "cell_type": "code",
   "execution_count": 6,
   "id": "ee6f2b15",
   "metadata": {},
   "outputs": [],
   "source": [
    "pub_key = pvt_key.public_key()"
   ]
  },
  {
   "cell_type": "code",
   "execution_count": 7,
   "id": "0611a008",
   "metadata": {},
   "outputs": [
    {
     "data": {
      "text/plain": [
       "False"
      ]
     },
     "execution_count": 7,
     "metadata": {},
     "output_type": "execute_result"
    }
   ],
   "source": [
    "pub_key.has_private()"
   ]
  },
  {
   "cell_type": "code",
   "execution_count": 8,
   "id": "62ec642b",
   "metadata": {},
   "outputs": [],
   "source": [
    "# Write RSA Public Key to disk\n",
    "\n",
    "f = open('pub_key.pem','wb')\n",
    "f.write(pub_key.export_key('PEM'))\n",
    "f.close()"
   ]
  },
  {
   "cell_type": "code",
   "execution_count": 9,
   "id": "357098a8",
   "metadata": {},
   "outputs": [],
   "source": [
    "# Read saved RSA Private Key from disk\n",
    "\n",
    "f = open('pub_key.pem','r')\n",
    "pub_key = RSA.import_key(f.read())\n",
    "f.close()\n",
    "\n",
    "# pub_key_string\n",
    "# MIIBIjANBgkqhkiG9w0BAQEFAAOCAQ8AMIIBCgKCAQEAstHUfyikHO2baZpjaE8qWXGLcfsAzZ6jCS6nNdOKgcAt99+CLHMY3y7zhonDU+jxvFZjzAXRvNZM/6SsWtxierjK4PNScTj7sbADgNNfSRCKtgKJwl/q5uUMniDLRUmcKWHf68ocWm1NAj6EPeFm2ENgMSOov+4eYtHad/5bInkqOdUjcN7hU6pLuHCfo8rgBClZ0ezI1C/Fbh7AunXesUpCptl60v/GiSv4pf0HecQ7K9fwmI5Ye0ApygTw9rXAlicCQGp/4Wujgb6xTXcO+lDQDvQqL7Pf75K2wBz2vSXqiBCLHWrzUaeR901aNQP/+MlDvJxSpoel3CU9Fz3P4wIDAQAB"
   ]
  },
  {
   "cell_type": "markdown",
   "id": "620ccc30",
   "metadata": {},
   "source": [
    "### Generate 3 step hash digests"
   ]
  },
  {
   "cell_type": "markdown",
   "id": "0e89eaf6",
   "metadata": {},
   "source": [
    "#### First SHA256 hash digest"
   ]
  },
  {
   "cell_type": "code",
   "execution_count": 10,
   "id": "1e97358e",
   "metadata": {},
   "outputs": [
    {
     "name": "stdout",
     "output_type": "stream",
     "text": [
      "ad6ffc6c8356e76e5ea1565ea81746f5e694b601ac17828d5212e8b7b9471630\n"
     ]
    }
   ],
   "source": [
    "firsthash = SHA256.new(b'MIIBIjANBgkqhkiG9w0BAQEFAAOCAQ8AMIIBCgKCAQEAstHUfyikHO2baZpjaE8qWXGLcfsAzZ6jCS6nNdOKgcAt99+CLHMY3y7zhonDU+jxvFZjzAXRvNZM/6SsWtxierjK4PNScTj7sbADgNNfSRCKtgKJwl/q5uUMniDLRUmcKWHf68ocWm1NAj6EPeFm2ENgMSOov+4eYtHad/5bInkqOdUjcN7hU6pLuHCfo8rgBClZ0ezI1C/Fbh7AunXesUpCptl60v/GiSv4pf0HecQ7K9fwmI5Ye0ApygTw9rXAlicCQGp/4Wujgb6xTXcO+lDQDvQqL7Pf75K2wBz2vSXqiBCLHWrzUaeR901aNQP/+MlDvJxSpoel3CU9Fz3P4wIDAQAB')\n",
    "# firsthash.update(b'MIIBIjANBgkqhkiG9w0BAQEFAAOCAQ8AMIIBCgKCAQEAstHUfyikHO2baZpjaE8qWXGLcfsAzZ6jCS6nNdOKgcAt99+CLHMY3y7zhonDU+jxvFZjzAXRvNZM/6SsWtxierjK4PNScTj7sbADgNNfSRCKtgKJwl/q5uUMniDLRUmcKWHf68ocWm1NAj6EPeFm2ENgMSOov+4eYtHad/5bInkqOdUjcN7hU6pLuHCfo8rgBClZ0ezI1C/Fbh7AunXesUpCptl60v/GiSv4pf0HecQ7K9fwmI5Ye0ApygTw9rXAlicCQGp/4Wujgb6xTXcO+lDQDvQqL7Pf75K2wBz2vSXqiBCLHWrzUaeR901aNQP/+MlDvJxSpoel3CU9Fz3P4wIDAQAB')\n",
    "print(firsthash.hexdigest())"
   ]
  },
  {
   "cell_type": "markdown",
   "id": "38bbcb90",
   "metadata": {},
   "source": [
    "#### RIPEMD hash digest of first hash obtained from SHA256 with version byte"
   ]
  },
  {
   "cell_type": "code",
   "execution_count": 11,
   "id": "aafccd63",
   "metadata": {},
   "outputs": [],
   "source": [
    "# ad6ffc6c8356e76e5ea1565ea81746f5e694b601ac17828d5212e8b7b9471630"
   ]
  },
  {
   "cell_type": "code",
   "execution_count": 12,
   "id": "e872a0cc",
   "metadata": {},
   "outputs": [
    {
     "name": "stdout",
     "output_type": "stream",
     "text": [
      "0084d6fb28b1f60316f62ffd8f8f6d81b896c51e88\n"
     ]
    }
   ],
   "source": [
    "ripemdhash = RIPEMD160.new(b'ad6ffc6c8356e76e5ea1565ea81746f5e694b601ac17828d5212e8b7b9471630')\n",
    "# ripemdhash.update(b'ad6ffc6c8356e76e5ea1565ea81746f5e694b601ac17828d5212e8b7b9471630')\n",
    "print('00' + ripemdhash.hexdigest())"
   ]
  },
  {
   "cell_type": "markdown",
   "id": "3170a8a5",
   "metadata": {},
   "source": [
    "#### 2 x SHA256 Hash digest obtained from ripemd hash with version byte"
   ]
  },
  {
   "cell_type": "code",
   "execution_count": 13,
   "id": "5ecd2cba",
   "metadata": {},
   "outputs": [],
   "source": [
    "# 0084d6fb28b1f60316f62ffd8f8f6d81b896c51e88"
   ]
  },
  {
   "cell_type": "code",
   "execution_count": 14,
   "id": "f7cbc133",
   "metadata": {},
   "outputs": [
    {
     "data": {
      "text/plain": [
       "'71fbe094f1c27476e549e316424ddedbb5e165af0efc1e036b9afe3742f294b6'"
      ]
     },
     "execution_count": 14,
     "metadata": {},
     "output_type": "execute_result"
    }
   ],
   "source": [
    "step1 = SHA256.new(b'0084d6fb28b1f60316f62ffd8f8f6d81b896c51e88')\n",
    "step1.hexdigest()"
   ]
  },
  {
   "cell_type": "code",
   "execution_count": 15,
   "id": "6c282e6c",
   "metadata": {},
   "outputs": [
    {
     "data": {
      "text/plain": [
       "'3f90908528953bcd4a05afab5337d94e3419f738a9e6dc436fe0f21ef5d008c5'"
      ]
     },
     "execution_count": 15,
     "metadata": {},
     "output_type": "execute_result"
    }
   ],
   "source": [
    "step2 = SHA256.new(b'71fbe094f1c27476e549e316424ddedbb5e165af0efc1e036b9afe3742f294b6')\n",
    "step2.hexdigest()"
   ]
  },
  {
   "cell_type": "markdown",
   "id": "f84105be",
   "metadata": {},
   "source": [
    "##### Frist 4 bytes from the 2 x SHA256 Hash digest obtained from ripemd hash with version byte"
   ]
  },
  {
   "cell_type": "code",
   "execution_count": 16,
   "id": "b8821469",
   "metadata": {},
   "outputs": [
    {
     "data": {
      "text/plain": [
       "'3f909085'"
      ]
     },
     "execution_count": 16,
     "metadata": {},
     "output_type": "execute_result"
    }
   ],
   "source": [
    "step2.hexdigest()[0:8]"
   ]
  },
  {
   "cell_type": "markdown",
   "id": "90c4f041",
   "metadata": {},
   "source": [
    "### Binary Bitcoin Address\n",
    "#### RIPEMD-160 hash with version byte + first 4 bytes from 2 x sha256 hash"
   ]
  },
  {
   "cell_type": "code",
   "execution_count": 17,
   "id": "4e96e64a",
   "metadata": {},
   "outputs": [
    {
     "data": {
      "text/plain": [
       "'0084d6fb28b1f60316f62ffd8f8f6d81b896c51e883f909085'"
      ]
     },
     "execution_count": 17,
     "metadata": {},
     "output_type": "execute_result"
    }
   ],
   "source": [
    "'0084d6fb28b1f60316f62ffd8f8f6d81b896c51e88' + '3f909085'"
   ]
  },
  {
   "cell_type": "markdown",
   "id": "0d58a530",
   "metadata": {},
   "source": [
    "### Bitcoin Address - Convert Binary Bitcoin Address to Base58"
   ]
  },
  {
   "cell_type": "code",
   "execution_count": 18,
   "id": "b33d30c0",
   "metadata": {},
   "outputs": [
    {
     "data": {
      "text/plain": [
       "b'bSLwv2VXyx1nRAX5SBahw2t93GXJXkMXEcSNfRhQPD8uvMeootz5tKzRCCKKbvL2GrkC'"
      ]
     },
     "execution_count": 18,
     "metadata": {},
     "output_type": "execute_result"
    }
   ],
   "source": [
    "b58.b58encode('0084d6fb28b1f60316f62ffd8f8f6d81b896c51e883f909085')"
   ]
  },
  {
   "cell_type": "code",
   "execution_count": null,
   "id": "9eda264a",
   "metadata": {},
   "outputs": [],
   "source": []
  },
  {
   "cell_type": "markdown",
   "id": "45bd06f2",
   "metadata": {},
   "source": [
    "## Bitcoin Address"
   ]
  },
  {
   "cell_type": "code",
   "execution_count": 19,
   "id": "3f2d4382",
   "metadata": {},
   "outputs": [
    {
     "name": "stdout",
     "output_type": "stream",
     "text": [
      "My Bitcoin Address: bSLwv2VXyx1nRAX5SBahw2t93GXJXkMXEcSNfRhQPD8uvMeootz5tKzRCCKKbvL2GrkC\n"
     ]
    }
   ],
   "source": [
    "print('My Bitcoin Address: ' + 'bSLwv2VXyx1nRAX5SBahw2t93GXJXkMXEcSNfRhQPD8uvMeootz5tKzRCCKKbvL2GrkC')"
   ]
  },
  {
   "cell_type": "markdown",
   "id": "4aad00f9",
   "metadata": {},
   "source": [
    "# Encryption and Signing\n",
    "\n",
    "### Encryption"
   ]
  },
  {
   "cell_type": "code",
   "execution_count": 20,
   "id": "b9169278",
   "metadata": {},
   "outputs": [
    {
     "data": {
      "text/plain": [
       "'1254021d36180416eff0c753a89cf25a94d8ff9c2f05a0d381008503bcec1e869e9dc2659e98896413ee26794e9483d870dbe42c4cd63e3a5fc17e9eb6395712bd0366f7b04c697e780ac96957d447b9005856e1a6bb8332405da612a4a0b7a1b86aafcc3269707e8c3dac23b36cbb3d966e4e889c2cbd2f297035b53c9ee5ad7643be827b4486c5a765e7ab218aee423682d5b6aa5f2289832d0248a4bd28db1f611b0b6cce69a9fddce197ef1133e32c7fa5a91b594f3257a18a4e15770f3fd3448865e981441ec9ccf4629ee705b270128b6c5a2e0af194ebba6f4b4bac22fd6107817311b53c9ae7d8687f689b002f7d5c634f75df6c09d4c5201bceb291'"
      ]
     },
     "execution_count": 20,
     "metadata": {},
     "output_type": "execute_result"
    }
   ],
   "source": [
    "enc_name = PKCS1_OAEP.new(pub_key).encrypt(b'Muhammad Maaz Ul Haque')\n",
    "enc_name.hex()"
   ]
  },
  {
   "cell_type": "code",
   "execution_count": 21,
   "id": "cfa46fd9",
   "metadata": {},
   "outputs": [
    {
     "data": {
      "text/plain": [
       "b'Muhammad Maaz Ul Haque'"
      ]
     },
     "execution_count": 21,
     "metadata": {},
     "output_type": "execute_result"
    }
   ],
   "source": [
    "# Decrypt and check\n",
    "PKCS1_OAEP.new(pvt_key).decrypt(enc_name)"
   ]
  },
  {
   "cell_type": "markdown",
   "id": "a66826b6",
   "metadata": {},
   "source": [
    "### Signature"
   ]
  },
  {
   "cell_type": "code",
   "execution_count": 22,
   "id": "b18e0f06",
   "metadata": {},
   "outputs": [],
   "source": [
    "temp = SHA256.new(b'Muhammad Maaz Ul Haque')"
   ]
  },
  {
   "cell_type": "code",
   "execution_count": 23,
   "id": "f987caa5",
   "metadata": {},
   "outputs": [
    {
     "data": {
      "text/plain": [
       "'8308f3f3dbdaf1dc0f223b42d1a4886a4e58664e073eab1796383e3eedc7bd68e77dad735a314436791bc6ad0658516313a0996b914718842420160d1bd51c0caa478ad494d6d3ae4dbb84b9a534332b80195d2cf143183e5a6f11f11cb19fc56302e51e46d9052773b646505891b9c7f8664854416c33938cc652512d820e228f6546bedc954e8a366de94a16dab632970fa965836eca54d3c1dd64dee2fedaa4c117a30b4788474340dd57a22084d431d5c1ad77c6bdf87f19cee36e93127e6c98c92fafe020fa8c07a0197a97880e2af1fb8df733f3dd2bce1aa00841c80b5e07d8d473c3a55d98eb4d28c5f97d72549cdbd392ac8a79caaa2ba8a56f8d5b'"
      ]
     },
     "execution_count": 23,
     "metadata": {},
     "output_type": "execute_result"
    }
   ],
   "source": [
    "# Sign\n",
    "signature = PKCS115_SigScheme(pvt_key).sign(temp)\n",
    "signature.hex()\n",
    "\n",
    "    "
   ]
  },
  {
   "cell_type": "code",
   "execution_count": 24,
   "id": "4932a3e8",
   "metadata": {},
   "outputs": [],
   "source": [
    "# No value error means verification successful\n",
    "PKCS115_SigScheme(pub_key).verify(temp, signature)"
   ]
  }
 ],
 "metadata": {
  "kernelspec": {
   "display_name": "Python 3 (ipykernel)",
   "language": "python",
   "name": "python3"
  },
  "language_info": {
   "codemirror_mode": {
    "name": "ipython",
    "version": 3
   },
   "file_extension": ".py",
   "mimetype": "text/x-python",
   "name": "python",
   "nbconvert_exporter": "python",
   "pygments_lexer": "ipython3",
   "version": "3.9.7"
  }
 },
 "nbformat": 4,
 "nbformat_minor": 5
}

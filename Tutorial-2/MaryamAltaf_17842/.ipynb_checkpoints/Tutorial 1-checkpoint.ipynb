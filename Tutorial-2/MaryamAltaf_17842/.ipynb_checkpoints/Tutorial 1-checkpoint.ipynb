{
 "cells": [
  {
   "cell_type": "code",
   "execution_count": 2,
   "id": "53071fee",
   "metadata": {},
   "outputs": [],
   "source": [
    "from Crypto.PublicKey import RSA\n",
    "from Crypto.Hash import SHA256\n",
    "from Crypto.Hash import RIPEMD160\n",
    "from Crypto.Cipher import PKCS1_OAEP\n",
    "from Crypto.Signature.pkcs1_15 import PKCS115_SigScheme\n",
    "\n",
    "import base64 as b64"
   ]
  },
  {
   "cell_type": "code",
   "execution_count": 5,
   "id": "b13cec2f",
   "metadata": {},
   "outputs": [],
   "source": [
    "keyPair = RSA.generate(2048)\n",
    "publicKey = keyPair.publickey()"
   ]
  },
  {
   "cell_type": "code",
   "execution_count": 7,
   "id": "e9e18be6",
   "metadata": {},
   "outputs": [],
   "source": [
    "with open('myprivate.pem','wb') as f:\n",
    "    f.write(keyPair.exportKey('PEM'))\n",
    "    f.close()\n",
    "    \n",
    "with open('mypublic.pem','wb') as f:\n",
    "    f.write(keyPair.exportKey('PEM'))\n",
    "    f.close()"
   ]
  },
  {
   "cell_type": "code",
   "execution_count": 11,
   "id": "12351823",
   "metadata": {},
   "outputs": [],
   "source": [
    "privatekey = RSA.importKey(open('myprivate.pem').read())\n",
    "publickey = RSA.importKey(open('mypublic.pem').read())"
   ]
  },
  {
   "cell_type": "code",
   "execution_count": 13,
   "id": "25770783",
   "metadata": {},
   "outputs": [],
   "source": [
    "myName = b\"Maryam Altaf\""
   ]
  },
  {
   "cell_type": "code",
   "execution_count": 16,
   "id": "fca98c85",
   "metadata": {},
   "outputs": [],
   "source": [
    "#sha256\n",
    "hash1 = SHA256.new(myName)"
   ]
  },
  {
   "cell_type": "code",
   "execution_count": 19,
   "id": "859a960a",
   "metadata": {},
   "outputs": [
    {
     "data": {
      "text/plain": [
       "'f3619543a6e0db9e69b9dcfc0b99b9bc1958ab0e5e999bb5518480f5bf5a2b65'"
      ]
     },
     "execution_count": 19,
     "metadata": {},
     "output_type": "execute_result"
    }
   ],
   "source": [
    "hash1.hexdigest()"
   ]
  },
  {
   "cell_type": "code",
   "execution_count": 23,
   "id": "b46942da",
   "metadata": {},
   "outputs": [],
   "source": [
    "#ripemd160\n",
    "hash2 = RIPEMD160.new(b'f3619543a6e0db9e69b9dcfc0b99b9bc1958ab0e5e999bb5518480f5bf5a2b65')"
   ]
  },
  {
   "cell_type": "code",
   "execution_count": 27,
   "id": "117fbc6f",
   "metadata": {},
   "outputs": [
    {
     "name": "stdout",
     "output_type": "stream",
     "text": [
      "008b1c7f62a166b6fb4989d71d1a7d14b3eaf6e59f\n"
     ]
    }
   ],
   "source": [
    "print('00' + hash2.hexdigest())"
   ]
  },
  {
   "cell_type": "code",
   "execution_count": 30,
   "id": "51a5d1f4",
   "metadata": {},
   "outputs": [],
   "source": [
    "#sha256 second 1\n",
    "hash3_1 = SHA256.new(b'008b1c7f62a166b6fb4989d71d1a7d14b3eaf6e59f')"
   ]
  },
  {
   "cell_type": "code",
   "execution_count": 33,
   "id": "10e7052a",
   "metadata": {},
   "outputs": [
    {
     "data": {
      "text/plain": [
       "'1187bd00b5401964f1a3408e4052b1d59e633b9816941e5249ed65b3abb1adfc'"
      ]
     },
     "execution_count": 33,
     "metadata": {},
     "output_type": "execute_result"
    }
   ],
   "source": [
    "hash3_1.hexdigest()"
   ]
  },
  {
   "cell_type": "code",
   "execution_count": 35,
   "id": "9eead5ad",
   "metadata": {},
   "outputs": [],
   "source": [
    "#sha256 second 2\n",
    "hash3_2 = SHA256.new(b'1187bd00b5401964f1a3408e4052b1d59e633b9816941e5249ed65b3abb1adfc')"
   ]
  },
  {
   "cell_type": "code",
   "execution_count": 38,
   "id": "1d9c85e7",
   "metadata": {},
   "outputs": [
    {
     "data": {
      "text/plain": [
       "'047c23bec59a0b3ff34282cd5a36cd850ba53e7a2373017d51b286ed7e6b2946'"
      ]
     },
     "execution_count": 38,
     "metadata": {},
     "output_type": "execute_result"
    }
   ],
   "source": [
    "hash3_2.hexdigest()"
   ]
  },
  {
   "cell_type": "code",
   "execution_count": 40,
   "id": "dedfbeed",
   "metadata": {},
   "outputs": [
    {
     "data": {
      "text/plain": [
       "'047c23be'"
      ]
     },
     "execution_count": 40,
     "metadata": {},
     "output_type": "execute_result"
    }
   ],
   "source": [
    "hash3_2.hexdigest()[0:8]"
   ]
  },
  {
   "cell_type": "code",
   "execution_count": 43,
   "id": "68055e6f",
   "metadata": {},
   "outputs": [
    {
     "data": {
      "text/plain": [
       "'008b1c7f62a166b6fb4989d71d1a7d14b3eaf6e59f047c23be'"
      ]
     },
     "execution_count": 43,
     "metadata": {},
     "output_type": "execute_result"
    }
   ],
   "source": [
    "#ripemd and 8 bits\n",
    "'008b1c7f62a166b6fb4989d71d1a7d14b3eaf6e59f' + '047c23be'"
   ]
  },
  {
   "cell_type": "code",
   "execution_count": 46,
   "id": "6a501494",
   "metadata": {},
   "outputs": [
    {
     "data": {
      "text/plain": [
       "b'MDA4YjFjN2Y2MmExNjZiNmZiNDk4OWQ3MWQxYTdkMTRiM2VhZjZlNTlmMDQ3YzIzYmU='"
      ]
     },
     "execution_count": 46,
     "metadata": {},
     "output_type": "execute_result"
    }
   ],
   "source": [
    "b64.b64encode(b'008b1c7f62a166b6fb4989d71d1a7d14b3eaf6e59f047c23be')"
   ]
  },
  {
   "cell_type": "code",
   "execution_count": 48,
   "id": "365a8374",
   "metadata": {},
   "outputs": [
    {
     "name": "stdout",
     "output_type": "stream",
     "text": [
      "My Bitcoin Address: MDA4YjFjN2Y2MmExNjZiNmZiNDk4OWQ3MWQxYTdkMTRiM2VhZjZlNTlmMDQ3YzIzYmU=\n"
     ]
    }
   ],
   "source": [
    "print('My Bitcoin Address: ' + 'MDA4YjFjN2Y2MmExNjZiNmZiNDk4OWQ3MWQxYTdkMTRiM2VhZjZlNTlmMDQ3YzIzYmU=')"
   ]
  }
 ],
 "metadata": {
  "kernelspec": {
   "display_name": "Python 3 (ipykernel)",
   "language": "python",
   "name": "python3"
  },
  "language_info": {
   "codemirror_mode": {
    "name": "ipython",
    "version": 3
   },
   "file_extension": ".py",
   "mimetype": "text/x-python",
   "name": "python",
   "nbconvert_exporter": "python",
   "pygments_lexer": "ipython3",
   "version": "3.9.7"
  }
 },
 "nbformat": 4,
 "nbformat_minor": 5
}

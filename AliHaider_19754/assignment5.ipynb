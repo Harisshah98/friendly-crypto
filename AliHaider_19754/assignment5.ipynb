{
 "cells": [
  {
   "cell_type": "markdown",
   "id": "ed81ce39",
   "metadata": {},
   "source": [
    "# Importing"
   ]
  },
  {
   "cell_type": "code",
   "execution_count": 1,
   "id": "26e7c739",
   "metadata": {},
   "outputs": [],
   "source": [
    "from Crypto.PublicKey import RSA\n",
    "from Crypto.Hash import SHA256\n",
    "from Crypto.Hash import RIPEMD160\n",
    "from Crypto.Cipher import PKCS1_OAEP\n",
    "from Crypto.Signature.pkcs1_15 import PKCS115_SigScheme\n",
    "import base64 as b64\n"
   ]
  },
  {
   "cell_type": "markdown",
   "id": "6cf8e788",
   "metadata": {},
   "source": [
    "# Private Key"
   ]
  },
  {
   "cell_type": "code",
   "execution_count": 2,
   "id": "79494387",
   "metadata": {},
   "outputs": [],
   "source": [
    "privatekey = RSA.generate(2048)"
   ]
  },
  {
   "cell_type": "code",
   "execution_count": 3,
   "id": "2c625c8c",
   "metadata": {},
   "outputs": [
    {
     "data": {
      "text/plain": [
       "True"
      ]
     },
     "execution_count": 3,
     "metadata": {},
     "output_type": "execute_result"
    }
   ],
   "source": [
    "privatekey.has_private()"
   ]
  },
  {
   "cell_type": "code",
   "execution_count": 4,
   "id": "682277fe",
   "metadata": {},
   "outputs": [],
   "source": [
    "file = open('privatekey.pem','wb')\n",
    "file.write(privatekey.export_key('PEM'))\n",
    "file.close()"
   ]
  },
  {
   "cell_type": "code",
   "execution_count": 5,
   "id": "532a3a3f",
   "metadata": {},
   "outputs": [],
   "source": [
    "file = open('privatekey.pem','r')\n",
    "privatekey = RSA.import_key(file.read())\n",
    "file.close()"
   ]
  },
  {
   "cell_type": "markdown",
   "id": "2f7f35f8",
   "metadata": {},
   "source": [
    "# Public key"
   ]
  },
  {
   "cell_type": "code",
   "execution_count": 6,
   "id": "7ed98b85",
   "metadata": {},
   "outputs": [],
   "source": [
    "publickey = privatekey.public_key()\n"
   ]
  },
  {
   "cell_type": "code",
   "execution_count": 7,
   "id": "9e271355",
   "metadata": {},
   "outputs": [
    {
     "data": {
      "text/plain": [
       "False"
      ]
     },
     "execution_count": 7,
     "metadata": {},
     "output_type": "execute_result"
    }
   ],
   "source": [
    "publickey.has_private()"
   ]
  },
  {
   "cell_type": "code",
   "execution_count": 8,
   "id": "70f84056",
   "metadata": {},
   "outputs": [],
   "source": [
    "file = open('publickey.pem','wb')\n",
    "file.write(publickey.export_key('PEM'))\n",
    "file.close()"
   ]
  },
  {
   "cell_type": "code",
   "execution_count": 9,
   "id": "c2c1e3c9",
   "metadata": {},
   "outputs": [],
   "source": [
    "file = open('publickey.pem','r')\n",
    "publickey = RSA.import_key(file.read())\n",
    "file.close()\n"
   ]
  },
  {
   "cell_type": "markdown",
   "id": "aa21b4e9",
   "metadata": {},
   "source": [
    "# Hash digests\n",
    "**SHA256**"
   ]
  },
  {
   "cell_type": "code",
   "execution_count": 10,
   "id": "e2c7309b",
   "metadata": {},
   "outputs": [
    {
     "name": "stdout",
     "output_type": "stream",
     "text": [
      "78bb85ac972ac4f48f43e3f5db858265b1d80f685f75f47404536dc62b69bfcf\n"
     ]
    }
   ],
   "source": [
    "sha512_1 = SHA256.new(b'Syed Muhammad Ali Haider Rizvi')\n",
    "print(sha512_1.hexdigest())"
   ]
  },
  {
   "cell_type": "markdown",
   "id": "bd7ab50a",
   "metadata": {},
   "source": [
    "**RIPEMd**"
   ]
  },
  {
   "cell_type": "code",
   "execution_count": 11,
   "id": "a36f3651",
   "metadata": {},
   "outputs": [
    {
     "data": {
      "text/plain": [
       "'00173d49a90627ff4a834241cd006d5d4f5dd419dc'"
      ]
     },
     "execution_count": 11,
     "metadata": {},
     "output_type": "execute_result"
    }
   ],
   "source": [
    "ripemd_2 = RIPEMD160.new(b'78bb85ac972ac4f48f43e3f5db858265b1d80f685f75f47404536dc62b69bfcf')\n",
    "('00' + ripemd_2.hexdigest())"
   ]
  },
  {
   "cell_type": "markdown",
   "id": "b6eea847",
   "metadata": {},
   "source": [
    "**SHA512**"
   ]
  },
  {
   "cell_type": "code",
   "execution_count": 12,
   "id": "668eff02",
   "metadata": {},
   "outputs": [
    {
     "data": {
      "text/plain": [
       "'26fc4100c4998592370736e5fbcf2765cd2886f35b31986262d303bb86f8986c'"
      ]
     },
     "execution_count": 12,
     "metadata": {},
     "output_type": "execute_result"
    }
   ],
   "source": [
    "sha512_1 = SHA256.new(b'00173d49a90627ff4a834241cd006d5d4f5dd419dc')\n",
    "sha512_1.hexdigest()"
   ]
  },
  {
   "cell_type": "code",
   "execution_count": 13,
   "id": "4d3d104c",
   "metadata": {},
   "outputs": [
    {
     "data": {
      "text/plain": [
       "'1a63550c398e29759c995fb3b60cc24a3cd8815cb3eb8c6a2d62e472d0b4cf73'"
      ]
     },
     "execution_count": 13,
     "metadata": {},
     "output_type": "execute_result"
    }
   ],
   "source": [
    "sha512_2 = SHA256.new(b'26fc4100c4998592370736e5fbcf2765cd2886f35b31986262d303bb86f8986c')\n",
    "sha512_2.hexdigest()"
   ]
  },
  {
   "cell_type": "code",
   "execution_count": 14,
   "id": "da2d4c92",
   "metadata": {},
   "outputs": [
    {
     "data": {
      "text/plain": [
       "'1a63550c'"
      ]
     },
     "execution_count": 14,
     "metadata": {},
     "output_type": "execute_result"
    }
   ],
   "source": [
    "sha512_2.hexdigest()[0:8]"
   ]
  },
  {
   "cell_type": "markdown",
   "id": "2815cc61",
   "metadata": {},
   "source": [
    "# Bitcoin Address\n",
    "\n"
   ]
  },
  {
   "cell_type": "code",
   "execution_count": 15,
   "id": "174c896b",
   "metadata": {},
   "outputs": [
    {
     "data": {
      "text/plain": [
       "'00173d49a90627ff4a834241cd006d5d4f5dd419dc1a63550c'"
      ]
     },
     "execution_count": 15,
     "metadata": {},
     "output_type": "execute_result"
    }
   ],
   "source": [
    "'00173d49a90627ff4a834241cd006d5d4f5dd419dc' +'1a63550c'"
   ]
  },
  {
   "cell_type": "code",
   "execution_count": 16,
   "id": "cfb338a7",
   "metadata": {},
   "outputs": [
    {
     "data": {
      "text/plain": [
       "b'MDAxNzNkNDlhOTA2MjdmZjRhODM0MjQxY2QwMDZkNWQ0ZjVkZDQxOWRjMWE2MzU1MGM='"
      ]
     },
     "execution_count": 16,
     "metadata": {},
     "output_type": "execute_result"
    }
   ],
   "source": [
    "b64.b64encode(b'00173d49a90627ff4a834241cd006d5d4f5dd419dc1a63550c')"
   ]
  },
  {
   "cell_type": "markdown",
   "id": "2394ff64",
   "metadata": {},
   "source": [
    "# Encryption\n"
   ]
  },
  {
   "cell_type": "code",
   "execution_count": 17,
   "id": "e9cab233",
   "metadata": {},
   "outputs": [
    {
     "data": {
      "text/plain": [
       "'5f76b76de0b9d3cb178bbcc21325c03040911dd29e6791903f6b7f18d8767c5f90bf5c913bef0abbf93dc13b02aa4445d2334541509115aeb3f42dbde99b61e69a9d66135741c025ad3dccdc6a66112d9a7a1d0d65502640feb21d217c9a494dfe1013844df1566e2cbe7ee2320a85769c842ad83a38aa62c45be0fa00f861e007f479274c4249a13647f90651eb7dbb02f0f4275c43cab3f0d9dbb0b520d8cda517e7ba08af0214f985297adbc93549afc9d6bc8b02a472d56b966b90c74c38a48f34f61d70383f261b856680c63ada03b973c49b207e50fbd0b51760bf4021b357af223969365f63bd328c245da941180bbaf615cd755d035f941b27bf61ae'"
      ]
     },
     "execution_count": 17,
     "metadata": {},
     "output_type": "execute_result"
    }
   ],
   "source": [
    "enc_name = PKCS1_OAEP.new(publickey).encrypt(b'Syed Muhammad Ali Haider Rizvi')\n",
    "enc_name.hex()"
   ]
  },
  {
   "cell_type": "code",
   "execution_count": 18,
   "id": "822bebfe",
   "metadata": {},
   "outputs": [
    {
     "data": {
      "text/plain": [
       "b'Syed Muhammad Ali Haider Rizvi'"
      ]
     },
     "execution_count": 18,
     "metadata": {},
     "output_type": "execute_result"
    }
   ],
   "source": [
    "PKCS1_OAEP.new(privatekey).decrypt(enc_name)"
   ]
  },
  {
   "cell_type": "markdown",
   "id": "85f03e20",
   "metadata": {},
   "source": [
    "# Signature\n"
   ]
  },
  {
   "cell_type": "code",
   "execution_count": 19,
   "id": "4b71a86c",
   "metadata": {},
   "outputs": [],
   "source": [
    "temporary = SHA256.new(b'Syed Muhammad Ali Haider Rizvi')"
   ]
  },
  {
   "cell_type": "code",
   "execution_count": 20,
   "id": "250971b5",
   "metadata": {},
   "outputs": [
    {
     "data": {
      "text/plain": [
       "'7bc959065f76f8684f36b9e2af6345696f2131126c68b1223793911937c0251117775dccaf2097b9629e1e418be0a53b1394ee98c8850d41deabf16430efadc246d00c0aba6ede9cd89f49237fb01e673b7b669fb294a6b7dd4fc2875c8296e15378b8fb3739a9f12b4517813501ed24ac352211a4d2d95534d3dd3915fb36df21a54b65b57fe3334796b2ae475e523ec3a4157902320190f9b6aa001de44bb1ead1353cdf0c732353fe6fdac21b6da3b72f78c2900b4f0015531e52e6853721f85a23932c0991a176969add77cfca1c3139b056e2d345b3f91008c6c9b9a02ea694faa371a5d520d20088c49a1dcb39356e6936097df78ee371b70c8de68972'"
      ]
     },
     "execution_count": 20,
     "metadata": {},
     "output_type": "execute_result"
    }
   ],
   "source": [
    "signature = PKCS115_SigScheme(privatekey).sign(temporary)\n",
    "signature.hex()\n"
   ]
  },
  {
   "cell_type": "code",
   "execution_count": 21,
   "id": "3a085a6b",
   "metadata": {},
   "outputs": [],
   "source": [
    "PKCS115_SigScheme(publickey).verify(temporary, signature)"
   ]
  }
 ],
 "metadata": {
  "kernelspec": {
   "display_name": "Python 3 (ipykernel)",
   "language": "python",
   "name": "python3"
  },
  "language_info": {
   "codemirror_mode": {
    "name": "ipython",
    "version": 3
   },
   "file_extension": ".py",
   "mimetype": "text/x-python",
   "name": "python",
   "nbconvert_exporter": "python",
   "pygments_lexer": "ipython3",
   "version": "3.9.7"
  }
 },
 "nbformat": 4,
 "nbformat_minor": 5
}

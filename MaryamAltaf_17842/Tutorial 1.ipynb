{
 "cells": [
  {
   "cell_type": "code",
   "execution_count": 3,
   "id": "53071fee",
   "metadata": {},
   "outputs": [],
   "source": [
    "from Crypto.PublicKey import RSA\n",
    "from Crypto.Hash import SHA256\n",
    "from Crypto.Hash import RIPEMD160\n",
    "from Crypto.Cipher import PKCS1_OAEP\n",
    "from Crypto.Signature.pkcs1_15 import PKCS115_SigScheme\n",
    "\n",
    "import base64 as b64"
   ]
  },
  {
   "cell_type": "code",
   "execution_count": 4,
   "id": "b13cec2f",
   "metadata": {},
   "outputs": [],
   "source": [
    "keyPair = RSA.generate(2048)\n",
    "publicKey = keyPair.publickey()"
   ]
  },
  {
   "cell_type": "code",
   "execution_count": 5,
   "id": "e9e18be6",
   "metadata": {},
   "outputs": [],
   "source": [
    "with open('myprivate.pem','wb') as f:\n",
    "    f.write(keyPair.exportKey('PEM'))\n",
    "    f.close()\n",
    "    \n",
    "with open('mypublic.pem','wb') as f:\n",
    "    f.write(keyPair.exportKey('PEM'))\n",
    "    f.close()"
   ]
  },
  {
   "cell_type": "code",
   "execution_count": 6,
   "id": "12351823",
   "metadata": {},
   "outputs": [],
   "source": [
    "privatekey = RSA.importKey(open('myprivate.pem').read())\n",
    "publickey = RSA.importKey(open('mypublic.pem').read())"
   ]
  },
  {
   "cell_type": "code",
   "execution_count": 7,
   "id": "25770783",
   "metadata": {},
   "outputs": [],
   "source": [
    "myName = b\"Maryam Altaf\""
   ]
  },
  {
   "cell_type": "code",
   "execution_count": 8,
   "id": "fca98c85",
   "metadata": {},
   "outputs": [],
   "source": [
    "#sha256\n",
    "hash1 = SHA256.new(myName)"
   ]
  },
  {
   "cell_type": "code",
   "execution_count": 9,
   "id": "859a960a",
   "metadata": {},
   "outputs": [
    {
     "data": {
      "text/plain": [
       "'f3619543a6e0db9e69b9dcfc0b99b9bc1958ab0e5e999bb5518480f5bf5a2b65'"
      ]
     },
     "execution_count": 9,
     "metadata": {},
     "output_type": "execute_result"
    }
   ],
   "source": [
    "hash1.hexdigest()"
   ]
  },
  {
   "cell_type": "code",
   "execution_count": 10,
   "id": "b46942da",
   "metadata": {},
   "outputs": [],
   "source": [
    "#ripemd160\n",
    "hash2 = RIPEMD160.new(b'f3619543a6e0db9e69b9dcfc0b99b9bc1958ab0e5e999bb5518480f5bf5a2b65')"
   ]
  },
  {
   "cell_type": "code",
   "execution_count": 11,
   "id": "117fbc6f",
   "metadata": {},
   "outputs": [
    {
     "name": "stdout",
     "output_type": "stream",
     "text": [
      "008b1c7f62a166b6fb4989d71d1a7d14b3eaf6e59f\n"
     ]
    }
   ],
   "source": [
    "print('00' + hash2.hexdigest())"
   ]
  },
  {
   "cell_type": "code",
   "execution_count": 12,
   "id": "51a5d1f4",
   "metadata": {},
   "outputs": [],
   "source": [
    "#sha256 second 1\n",
    "hash3_1 = SHA256.new(b'008b1c7f62a166b6fb4989d71d1a7d14b3eaf6e59f')"
   ]
  },
  {
   "cell_type": "code",
   "execution_count": 13,
   "id": "10e7052a",
   "metadata": {},
   "outputs": [
    {
     "data": {
      "text/plain": [
       "'1187bd00b5401964f1a3408e4052b1d59e633b9816941e5249ed65b3abb1adfc'"
      ]
     },
     "execution_count": 13,
     "metadata": {},
     "output_type": "execute_result"
    }
   ],
   "source": [
    "hash3_1.hexdigest()"
   ]
  },
  {
   "cell_type": "code",
   "execution_count": 14,
   "id": "9eead5ad",
   "metadata": {},
   "outputs": [],
   "source": [
    "#sha256 second 2\n",
    "hash3_2 = SHA256.new(b'1187bd00b5401964f1a3408e4052b1d59e633b9816941e5249ed65b3abb1adfc')"
   ]
  },
  {
   "cell_type": "code",
   "execution_count": 15,
   "id": "1d9c85e7",
   "metadata": {},
   "outputs": [
    {
     "data": {
      "text/plain": [
       "'047c23bec59a0b3ff34282cd5a36cd850ba53e7a2373017d51b286ed7e6b2946'"
      ]
     },
     "execution_count": 15,
     "metadata": {},
     "output_type": "execute_result"
    }
   ],
   "source": [
    "hash3_2.hexdigest()"
   ]
  },
  {
   "cell_type": "code",
   "execution_count": 16,
   "id": "dedfbeed",
   "metadata": {},
   "outputs": [
    {
     "data": {
      "text/plain": [
       "'047c23be'"
      ]
     },
     "execution_count": 16,
     "metadata": {},
     "output_type": "execute_result"
    }
   ],
   "source": [
    "hash3_2.hexdigest()[0:8]"
   ]
  },
  {
   "cell_type": "code",
   "execution_count": 17,
   "id": "68055e6f",
   "metadata": {},
   "outputs": [
    {
     "data": {
      "text/plain": [
       "'008b1c7f62a166b6fb4989d71d1a7d14b3eaf6e59f047c23be'"
      ]
     },
     "execution_count": 17,
     "metadata": {},
     "output_type": "execute_result"
    }
   ],
   "source": [
    "#ripemd and 8 bits\n",
    "'008b1c7f62a166b6fb4989d71d1a7d14b3eaf6e59f' + '047c23be'"
   ]
  },
  {
   "cell_type": "code",
   "execution_count": 18,
   "id": "6a501494",
   "metadata": {},
   "outputs": [
    {
     "data": {
      "text/plain": [
       "b'MDA4YjFjN2Y2MmExNjZiNmZiNDk4OWQ3MWQxYTdkMTRiM2VhZjZlNTlmMDQ3YzIzYmU='"
      ]
     },
     "execution_count": 18,
     "metadata": {},
     "output_type": "execute_result"
    }
   ],
   "source": [
    "b64.b64encode(b'008b1c7f62a166b6fb4989d71d1a7d14b3eaf6e59f047c23be')"
   ]
  },
  {
   "cell_type": "code",
   "execution_count": 19,
   "id": "365a8374",
   "metadata": {},
   "outputs": [
    {
     "name": "stdout",
     "output_type": "stream",
     "text": [
      "My Bitcoin Address: MDA4YjFjN2Y2MmExNjZiNmZiNDk4OWQ3MWQxYTdkMTRiM2VhZjZlNTlmMDQ3YzIzYmU=\n"
     ]
    }
   ],
   "source": [
    "print('My Bitcoin Address: ' + 'MDA4YjFjN2Y2MmExNjZiNmZiNDk4OWQ3MWQxYTdkMTRiM2VhZjZlNTlmMDQ3YzIzYmU=')"
   ]
  },
  {
   "cell_type": "code",
   "execution_count": 23,
   "id": "c9f41975",
   "metadata": {},
   "outputs": [
    {
     "data": {
      "text/plain": [
       "'80bc5815ffca7684010d38bb7c1be3e8bcbb6ec2c85e11613e6d4a417e22554c755364cbb0edae4d1a23896b530b3a1b29117c018e27054dc018e3104ee2703e6d8bd6c8d3acef31fbb31dda1f27ca0f6be0b52c5a8a8bfd55ff072ce3617f0ef9861a725f68aaf303a999032d0699393ef8190396f575eafbde6bd2727351975f7569b1a236dc27cc1db29dbdf7a3287b1724e072f64115d73649ec3069607a1cceabe8b78e74eefefe8a402042f5c6b0fa2bc63b0bd689bcb5e656e4e1feb9382a416dd86b731a185689058c6c59124fd3b7daacd48a1808d98a9ac5a191e3e7436e327f7c43705fec42408a64d781d7501baa836fa492a75ba962b1b9afbd'"
      ]
     },
     "execution_count": 23,
     "metadata": {},
     "output_type": "execute_result"
    }
   ],
   "source": [
    "encryptedname = PKCS1_OAEP.new(publickey).encrypt(b'Maryam Altaf')\n",
    "encryptedname.hex()"
   ]
  },
  {
   "cell_type": "code",
   "execution_count": 26,
   "id": "e1cabb5f",
   "metadata": {},
   "outputs": [
    {
     "data": {
      "text/plain": [
       "b'Maryam Altaf'"
      ]
     },
     "execution_count": 26,
     "metadata": {},
     "output_type": "execute_result"
    }
   ],
   "source": [
    "PKCS1_OAEP.new(privatekey).decrypt(encryptedname)"
   ]
  },
  {
   "cell_type": "code",
   "execution_count": 28,
   "id": "b2fbf91f",
   "metadata": {},
   "outputs": [],
   "source": [
    "temp = SHA256.new(b'Maryam Altaf')"
   ]
  },
  {
   "cell_type": "code",
   "execution_count": 29,
   "id": "e99389af",
   "metadata": {},
   "outputs": [
    {
     "data": {
      "text/plain": [
       "'b4dbe31bba042ce80fdf0b35e658530631f11d9c552ae42812dfa00dad78e153f3aa5a0a774a94064aed79ffa06316c62b8a7def5a0f4d4d3ad26ea35daa7abb92e28ffcf0c03aa61edf75e0dce158236bebc0ccd022457e02d6d764d524cb296e6a39642a99574ad1e41830b29fd896b6b396fa12a63f9ffc0d862632c78c7e68d11c12b686246e47977ebfe0a48917bf1322ef1a16405944829090458e260ec611b3cb019b72f918cb6305f1c6253963e69e1ac7334b4d5c5b0dba85ade27e86e14ce6cb17f78191cd2eea169a8938ac6428ff029c579926c0a48f7ef145772589ca786e5861c0ece6e4df273ebd3d69cf0ceb67799995d337cd47ab8df877'"
      ]
     },
     "execution_count": 29,
     "metadata": {},
     "output_type": "execute_result"
    }
   ],
   "source": [
    "signature = PKCS115_SigScheme(privatekey).sign(temp)\n",
    "signature.hex()"
   ]
  }
 ],
 "metadata": {
  "kernelspec": {
   "display_name": "Python 3 (ipykernel)",
   "language": "python",
   "name": "python3"
  },
  "language_info": {
   "codemirror_mode": {
    "name": "ipython",
    "version": 3
   },
   "file_extension": ".py",
   "mimetype": "text/x-python",
   "name": "python",
   "nbconvert_exporter": "python",
   "pygments_lexer": "ipython3",
   "version": "3.9.7"
  }
 },
 "nbformat": 4,
 "nbformat_minor": 5
}

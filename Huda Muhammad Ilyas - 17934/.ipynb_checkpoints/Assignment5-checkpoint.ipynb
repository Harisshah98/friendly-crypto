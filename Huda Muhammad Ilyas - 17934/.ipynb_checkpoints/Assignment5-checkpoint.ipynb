{
 "cells": [
  {
   "cell_type": "code",
   "execution_count": 1,
   "metadata": {},
   "outputs": [],
   "source": [
    "from Crypto.PublicKey import RSA"
   ]
  },
  {
   "cell_type": "code",
   "execution_count": 2,
   "metadata": {},
   "outputs": [],
   "source": [
    "from Crypto.Cipher import PKCS1_OAEP\n",
    "import binascii \n",
    "import hashlib\n",
    "import base64"
   ]
  },
  {
   "cell_type": "markdown",
   "metadata": {},
   "source": []
  },
  {
   "cell_type": "code",
   "execution_count": 3,
   "metadata": {},
   "outputs": [],
   "source": [
    "pair = RSA.generate(2048)"
   ]
  },
  {
   "cell_type": "code",
   "execution_count": 4,
   "metadata": {},
   "outputs": [],
   "source": [
    "publicKey = pair.publickey()"
   ]
  },
  {
   "cell_type": "code",
   "execution_count": 6,
   "metadata": {},
   "outputs": [],
   "source": [
    "with open(\"privkey.pem\",'wb') as f:\n",
    "    f.write(pair.exportKey('PEM'))\n",
    "    f.close()"
   ]
  },
  {
   "cell_type": "code",
   "execution_count": 7,
   "metadata": {},
   "outputs": [],
   "source": [
    "with open(\"pubkey.pem\", 'wb') as f:\n",
    "    f.write(publicKey.exportKey('PEM'))\n",
    "    f.close()"
   ]
  },
  {
   "cell_type": "code",
   "execution_count": 9,
   "metadata": {},
   "outputs": [],
   "source": [
    "with open(\"privkey.pem\",'r') as f:\n",
    "    privKey = RSA.import_key(f.read())\n",
    "    f.close()\n"
   ]
  },
  {
   "cell_type": "code",
   "execution_count": 10,
   "metadata": {},
   "outputs": [],
   "source": [
    "with open(\"pubkey.pem\",'r') as f:\n",
    "    pubKey = RSA.import_key(f.read())\n",
    "    f.close()"
   ]
  },
  {
   "cell_type": "code",
   "execution_count": 11,
   "metadata": {},
   "outputs": [],
   "source": [
    "name = b\"Huda Ilyas\""
   ]
  },
  {
   "cell_type": "code",
   "execution_count": 14,
   "metadata": {},
   "outputs": [],
   "source": [
    "from Crypto.Hash import SHA256\n",
    "from Crypto.Hash import RIPEMD160\n"
   ]
  },
  {
   "cell_type": "code",
   "execution_count": 15,
   "metadata": {},
   "outputs": [],
   "source": [
    "hash_no_1 = SHA256.new(name)"
   ]
  },
  {
   "cell_type": "code",
   "execution_count": 16,
   "metadata": {},
   "outputs": [
    {
     "data": {
      "text/plain": [
       "'4cbf7a1cf4d29f12bcec4d642bb2862b7ad2f67a1a7c0485d623b186968959f4'"
      ]
     },
     "execution_count": 16,
     "metadata": {},
     "output_type": "execute_result"
    }
   ],
   "source": [
    "hash_no_1.hexdigest()"
   ]
  },
  {
   "cell_type": "code",
   "execution_count": 17,
   "metadata": {},
   "outputs": [],
   "source": [
    "hash_no_2 = RIPEMD160.new(b'4cbf7a1cf4d29f12bcec4d642bb2862b7ad2f67a1a7c0485d623b186968959f4')"
   ]
  },
  {
   "cell_type": "code",
   "execution_count": 18,
   "metadata": {},
   "outputs": [
    {
     "data": {
      "text/plain": [
       "'95b238b30d7b4b0ccabf67470299bfb681119b91'"
      ]
     },
     "execution_count": 18,
     "metadata": {},
     "output_type": "execute_result"
    }
   ],
   "source": [
    "hash_no_2.hexdigest()"
   ]
  },
  {
   "cell_type": "code",
   "execution_count": 19,
   "metadata": {},
   "outputs": [
    {
     "name": "stdout",
     "output_type": "stream",
     "text": [
      "0095b238b30d7b4b0ccabf67470299bfb681119b91\n"
     ]
    }
   ],
   "source": [
    "print(\"00\" + '95b238b30d7b4b0ccabf67470299bfb681119b91')"
   ]
  },
  {
   "cell_type": "code",
   "execution_count": 21,
   "metadata": {},
   "outputs": [],
   "source": [
    "hash_no_3_1 = SHA256.new(b'0095b238b30d7b4b0ccabf67470299bfb681119b91')"
   ]
  },
  {
   "cell_type": "code",
   "execution_count": 22,
   "metadata": {},
   "outputs": [
    {
     "data": {
      "text/plain": [
       "'6f0a246468a20d41d15c4ad79de56cb71f57f16582d31e5ac3e8f84e87ea4369'"
      ]
     },
     "execution_count": 22,
     "metadata": {},
     "output_type": "execute_result"
    }
   ],
   "source": [
    "hash_no_3_1.hexdigest()"
   ]
  },
  {
   "cell_type": "code",
   "execution_count": 23,
   "metadata": {},
   "outputs": [],
   "source": [
    "hash_no_3_2 = SHA256.new(b'6f0a246468a20d41d15c4ad79de56cb71f57f16582d31e5ac3e8f84e87ea4369')"
   ]
  },
  {
   "cell_type": "code",
   "execution_count": 24,
   "metadata": {},
   "outputs": [
    {
     "data": {
      "text/plain": [
       "'a7dad52e919e69860371013e382cce89546cc8a40a0df597aebf5bc779d5c40a'"
      ]
     },
     "execution_count": 24,
     "metadata": {},
     "output_type": "execute_result"
    }
   ],
   "source": [
    "hash_no_3_2.hexdigest()"
   ]
  },
  {
   "cell_type": "markdown",
   "metadata": {},
   "source": [
    "bitcoin address"
   ]
  },
  {
   "cell_type": "code",
   "execution_count": 25,
   "metadata": {},
   "outputs": [
    {
     "data": {
      "text/plain": [
       "'a7dad52e'"
      ]
     },
     "execution_count": 25,
     "metadata": {},
     "output_type": "execute_result"
    }
   ],
   "source": [
    "hash_no_3_2.hexdigest()[0:8]"
   ]
  },
  {
   "cell_type": "code",
   "execution_count": 30,
   "metadata": {},
   "outputs": [
    {
     "data": {
      "text/plain": [
       "'a7dad52e0095b238b30d7b4b0ccabf67470299bfb681119b91'"
      ]
     },
     "execution_count": 30,
     "metadata": {},
     "output_type": "execute_result"
    }
   ],
   "source": [
    "'a7dad52e' + '0095b238b30d7b4b0ccabf67470299bfb681119b91'"
   ]
  },
  {
   "cell_type": "markdown",
   "metadata": {},
   "source": [
    "base 64 bitcoin add"
   ]
  },
  {
   "cell_type": "code",
   "execution_count": 31,
   "metadata": {},
   "outputs": [
    {
     "data": {
      "text/plain": [
       "b'YTdkYWQ1MmUwMDk1YjIzOGIzMGQ3YjRiMGNjYWJmNjc0NzAyOTliZmI2ODExMTliOTE='"
      ]
     },
     "execution_count": 31,
     "metadata": {},
     "output_type": "execute_result"
    }
   ],
   "source": [
    "base64.b64encode(b'a7dad52e0095b238b30d7b4b0ccabf67470299bfb681119b91')"
   ]
  },
  {
   "cell_type": "code",
   "execution_count": 32,
   "metadata": {},
   "outputs": [
    {
     "name": "stdout",
     "output_type": "stream",
     "text": [
      "YTdkYWQ1MmUwMDk1YjIzOGIzMGQ3YjRiMGNjYWJmNjc0NzAyOTliZmI2ODExMTliOTE=\n"
     ]
    }
   ],
   "source": [
    "print('YTdkYWQ1MmUwMDk1YjIzOGIzMGQ3YjRiMGNjYWJmNjc0NzAyOTliZmI2ODExMTliOTE=')"
   ]
  },
  {
   "cell_type": "markdown",
   "metadata": {},
   "source": [
    "Encryption"
   ]
  },
  {
   "cell_type": "code",
   "execution_count": 33,
   "metadata": {},
   "outputs": [],
   "source": [
    "from Crypto.Cipher import PKCS1_OAEP\n",
    "from Crypto.Signature.pkcs1_15 import PKCS115_SigScheme "
   ]
  },
  {
   "cell_type": "code",
   "execution_count": 34,
   "metadata": {},
   "outputs": [],
   "source": [
    "encrypted_message = PKCS1_OAEP.new(pubKey).encrypt(b'Huda Muhammad Ilyas')"
   ]
  },
  {
   "cell_type": "code",
   "execution_count": 35,
   "metadata": {},
   "outputs": [
    {
     "data": {
      "text/plain": [
       "'1e0ff9fd6295582cb239c346cbe79d90c0c0c9a22b7404239f0996aa060b8b9eadadee8029414ee22bccd1f33d2eca1b5fd7eb34f29cfd220edb3d56d2ccb0c3a33293c143a91fd89462501ed271c0aded4bd50ece07b3fdd8051449a244fe8a05cf502ce20733baf22e297b67d6c13401e570577f3de3eae220751ec10b814285263f4060f9b3366fa4c52925e4caed833e04a56870b740301d74b16569555e6d45297c7f2bc76386a141441481b0fd42b4d8694d47c33dbb1540bcd3eb81171e6f2e7c7ff9986c7a5b6ba4dc72d0f2f87f5ba3b2ba3f73350eede28bb13c18c8cf4649b04427c832cfc29b756b6d55cc791c82fee46848f59c86495774676d'"
      ]
     },
     "execution_count": 35,
     "metadata": {},
     "output_type": "execute_result"
    }
   ],
   "source": [
    "encrypted_message.hex()"
   ]
  },
  {
   "cell_type": "code",
   "execution_count": 36,
   "metadata": {},
   "outputs": [
    {
     "data": {
      "text/plain": [
       "b'Huda Muhammad Ilyas'"
      ]
     },
     "execution_count": 36,
     "metadata": {},
     "output_type": "execute_result"
    }
   ],
   "source": [
    "PKCS1_OAEP.new(privKey).decrypt(encrypted_message)"
   ]
  },
  {
   "cell_type": "markdown",
   "metadata": {},
   "source": [
    "Digital Signature"
   ]
  },
  {
   "cell_type": "code",
   "execution_count": 38,
   "metadata": {},
   "outputs": [],
   "source": [
    "hash_name = SHA256.new(b'Huda Muhammad Ilyas')"
   ]
  },
  {
   "cell_type": "code",
   "execution_count": null,
   "metadata": {},
   "outputs": [],
   "source": []
  }
 ],
 "metadata": {
  "kernelspec": {
   "display_name": "Python 3",
   "language": "python",
   "name": "python3"
  },
  "language_info": {
   "codemirror_mode": {
    "name": "ipython",
    "version": 3
   },
   "file_extension": ".py",
   "mimetype": "text/x-python",
   "name": "python",
   "nbconvert_exporter": "python",
   "pygments_lexer": "ipython3",
   "version": "3.8.5"
  }
 },
 "nbformat": 4,
 "nbformat_minor": 4
}

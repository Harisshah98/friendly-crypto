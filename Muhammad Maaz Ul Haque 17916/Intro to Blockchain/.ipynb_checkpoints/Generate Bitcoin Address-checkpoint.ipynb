{
 "cells": [
  {
   "cell_type": "code",
   "execution_count": 1,
   "id": "0e0affce",
   "metadata": {},
   "outputs": [],
   "source": [
    "from Crypto.PublicKey import RSA\n",
    "from Crypto.Hash import SHA256\n",
    "from Crypto.Hash import RIPEMD160\n",
    "\n",
    "from Crypto.Cipher import PKCS1_v1_5\n",
    "from Crypto.Signature import pkcs1_15\n",
    "import base58 as b58"
   ]
  },
  {
   "cell_type": "markdown",
   "id": "482328c2",
   "metadata": {},
   "source": [
    "### Generate Private Key"
   ]
  },
  {
   "cell_type": "code",
   "execution_count": 2,
   "id": "0896f976",
   "metadata": {},
   "outputs": [],
   "source": [
    "pvt_key = RSA.generate(2048)"
   ]
  },
  {
   "cell_type": "code",
   "execution_count": 3,
   "id": "c5d78492",
   "metadata": {},
   "outputs": [
    {
     "data": {
      "text/plain": [
       "True"
      ]
     },
     "execution_count": 3,
     "metadata": {},
     "output_type": "execute_result"
    }
   ],
   "source": [
    "pvt_key.has_private()"
   ]
  },
  {
   "cell_type": "code",
   "execution_count": 4,
   "id": "879f1df9",
   "metadata": {},
   "outputs": [],
   "source": [
    "# Write RSA Private Key to disk\n",
    "\n",
    "f = open('pvt_key.pem','wb')\n",
    "f.write(pvt_key.export_key('PEM'))\n",
    "f.close()"
   ]
  },
  {
   "cell_type": "code",
   "execution_count": 5,
   "id": "0d517763",
   "metadata": {},
   "outputs": [],
   "source": [
    "# Read saved RSA Private Key from disk\n",
    "\n",
    "f = open('pvt_key.pem','r')\n",
    "pvt_key = RSA.import_key(f.read())\n",
    "f.close()"
   ]
  },
  {
   "cell_type": "markdown",
   "id": "1bbc4cff",
   "metadata": {},
   "source": [
    "### Generate Public Key"
   ]
  },
  {
   "cell_type": "code",
   "execution_count": 6,
   "id": "ee6f2b15",
   "metadata": {},
   "outputs": [],
   "source": [
    "pub_key = pvt_key.public_key()"
   ]
  },
  {
   "cell_type": "code",
   "execution_count": 7,
   "id": "0611a008",
   "metadata": {},
   "outputs": [
    {
     "data": {
      "text/plain": [
       "False"
      ]
     },
     "execution_count": 7,
     "metadata": {},
     "output_type": "execute_result"
    }
   ],
   "source": [
    "pub_key.has_private()"
   ]
  },
  {
   "cell_type": "code",
   "execution_count": 8,
   "id": "62ec642b",
   "metadata": {},
   "outputs": [],
   "source": [
    "# Write RSA Public Key to disk\n",
    "\n",
    "f = open('pub_key.pem','wb')\n",
    "f.write(pub_key.export_key('PEM'))\n",
    "f.close()"
   ]
  },
  {
   "cell_type": "code",
   "execution_count": 9,
   "id": "357098a8",
   "metadata": {},
   "outputs": [],
   "source": [
    "# Read saved RSA Private Key from disk\n",
    "\n",
    "f = open('pub_key.pem','r')\n",
    "pub_key = RSA.import_key(f.read())\n",
    "f.close()\n",
    "\n",
    "# pub_key_string\n",
    "# MIIBIjANBgkqhkiG9w0BAQEFAAOCAQ8AMIIBCgKCAQEAstHUfyikHO2baZpjaE8qWXGLcfsAzZ6jCS6nNdOKgcAt99+CLHMY3y7zhonDU+jxvFZjzAXRvNZM/6SsWtxierjK4PNScTj7sbADgNNfSRCKtgKJwl/q5uUMniDLRUmcKWHf68ocWm1NAj6EPeFm2ENgMSOov+4eYtHad/5bInkqOdUjcN7hU6pLuHCfo8rgBClZ0ezI1C/Fbh7AunXesUpCptl60v/GiSv4pf0HecQ7K9fwmI5Ye0ApygTw9rXAlicCQGp/4Wujgb6xTXcO+lDQDvQqL7Pf75K2wBz2vSXqiBCLHWrzUaeR901aNQP/+MlDvJxSpoel3CU9Fz3P4wIDAQAB"
   ]
  },
  {
   "cell_type": "markdown",
   "id": "620ccc30",
   "metadata": {},
   "source": [
    "### Generate 3 step hash digests"
   ]
  },
  {
   "cell_type": "markdown",
   "id": "0e89eaf6",
   "metadata": {},
   "source": [
    "#### First SHA256 hash digest"
   ]
  },
  {
   "cell_type": "code",
   "execution_count": 10,
   "id": "1e97358e",
   "metadata": {},
   "outputs": [
    {
     "name": "stdout",
     "output_type": "stream",
     "text": [
      "ad6ffc6c8356e76e5ea1565ea81746f5e694b601ac17828d5212e8b7b9471630\n"
     ]
    }
   ],
   "source": [
    "firsthash = SHA256.new(b'MIIBIjANBgkqhkiG9w0BAQEFAAOCAQ8AMIIBCgKCAQEAstHUfyikHO2baZpjaE8qWXGLcfsAzZ6jCS6nNdOKgcAt99+CLHMY3y7zhonDU+jxvFZjzAXRvNZM/6SsWtxierjK4PNScTj7sbADgNNfSRCKtgKJwl/q5uUMniDLRUmcKWHf68ocWm1NAj6EPeFm2ENgMSOov+4eYtHad/5bInkqOdUjcN7hU6pLuHCfo8rgBClZ0ezI1C/Fbh7AunXesUpCptl60v/GiSv4pf0HecQ7K9fwmI5Ye0ApygTw9rXAlicCQGp/4Wujgb6xTXcO+lDQDvQqL7Pf75K2wBz2vSXqiBCLHWrzUaeR901aNQP/+MlDvJxSpoel3CU9Fz3P4wIDAQAB')\n",
    "# firsthash.update(b'MIIBIjANBgkqhkiG9w0BAQEFAAOCAQ8AMIIBCgKCAQEAstHUfyikHO2baZpjaE8qWXGLcfsAzZ6jCS6nNdOKgcAt99+CLHMY3y7zhonDU+jxvFZjzAXRvNZM/6SsWtxierjK4PNScTj7sbADgNNfSRCKtgKJwl/q5uUMniDLRUmcKWHf68ocWm1NAj6EPeFm2ENgMSOov+4eYtHad/5bInkqOdUjcN7hU6pLuHCfo8rgBClZ0ezI1C/Fbh7AunXesUpCptl60v/GiSv4pf0HecQ7K9fwmI5Ye0ApygTw9rXAlicCQGp/4Wujgb6xTXcO+lDQDvQqL7Pf75K2wBz2vSXqiBCLHWrzUaeR901aNQP/+MlDvJxSpoel3CU9Fz3P4wIDAQAB')\n",
    "print(firsthash.hexdigest())"
   ]
  },
  {
   "cell_type": "markdown",
   "id": "38bbcb90",
   "metadata": {},
   "source": [
    "#### RIPEMD hash digest of first hash obtained from SHA256 with version byte"
   ]
  },
  {
   "cell_type": "code",
   "execution_count": 11,
   "id": "aafccd63",
   "metadata": {},
   "outputs": [],
   "source": [
    "# ad6ffc6c8356e76e5ea1565ea81746f5e694b601ac17828d5212e8b7b9471630"
   ]
  },
  {
   "cell_type": "code",
   "execution_count": 12,
   "id": "e872a0cc",
   "metadata": {},
   "outputs": [
    {
     "name": "stdout",
     "output_type": "stream",
     "text": [
      "0084d6fb28b1f60316f62ffd8f8f6d81b896c51e88\n"
     ]
    }
   ],
   "source": [
    "ripemdhash = RIPEMD160.new(b'ad6ffc6c8356e76e5ea1565ea81746f5e694b601ac17828d5212e8b7b9471630')\n",
    "# ripemdhash.update(b'ad6ffc6c8356e76e5ea1565ea81746f5e694b601ac17828d5212e8b7b9471630')\n",
    "print('00' + ripemdhash.hexdigest())"
   ]
  },
  {
   "cell_type": "markdown",
   "id": "3170a8a5",
   "metadata": {},
   "source": [
    "#### 2 x SHA256 Hash digest obtained from ripemd hash with version byte"
   ]
  },
  {
   "cell_type": "code",
   "execution_count": 13,
   "id": "5ecd2cba",
   "metadata": {},
   "outputs": [],
   "source": [
    "# 0084d6fb28b1f60316f62ffd8f8f6d81b896c51e88"
   ]
  },
  {
   "cell_type": "code",
   "execution_count": 14,
   "id": "f7cbc133",
   "metadata": {},
   "outputs": [
    {
     "data": {
      "text/plain": [
       "'71fbe094f1c27476e549e316424ddedbb5e165af0efc1e036b9afe3742f294b6'"
      ]
     },
     "execution_count": 14,
     "metadata": {},
     "output_type": "execute_result"
    }
   ],
   "source": [
    "step1 = SHA256.new(b'0084d6fb28b1f60316f62ffd8f8f6d81b896c51e88')\n",
    "step1.hexdigest()"
   ]
  },
  {
   "cell_type": "code",
   "execution_count": 15,
   "id": "6c282e6c",
   "metadata": {},
   "outputs": [
    {
     "data": {
      "text/plain": [
       "'3f90908528953bcd4a05afab5337d94e3419f738a9e6dc436fe0f21ef5d008c5'"
      ]
     },
     "execution_count": 15,
     "metadata": {},
     "output_type": "execute_result"
    }
   ],
   "source": [
    "step2 = SHA256.new(b'71fbe094f1c27476e549e316424ddedbb5e165af0efc1e036b9afe3742f294b6')\n",
    "step2.hexdigest()"
   ]
  },
  {
   "cell_type": "markdown",
   "id": "f84105be",
   "metadata": {},
   "source": [
    "##### Frist 4 bytes from the 2 x SHA256 Hash digest obtained from ripemd hash with version byte"
   ]
  },
  {
   "cell_type": "code",
   "execution_count": 16,
   "id": "b8821469",
   "metadata": {},
   "outputs": [
    {
     "data": {
      "text/plain": [
       "'3f909085'"
      ]
     },
     "execution_count": 16,
     "metadata": {},
     "output_type": "execute_result"
    }
   ],
   "source": [
    "step2.hexdigest()[0:8]"
   ]
  },
  {
   "cell_type": "markdown",
   "id": "90c4f041",
   "metadata": {},
   "source": [
    "### Binary Bitcoin Address\n",
    "#### RIPEMD-160 hash with version byte + first 4 bytes from 2 x sha256 hash"
   ]
  },
  {
   "cell_type": "code",
   "execution_count": 17,
   "id": "4e96e64a",
   "metadata": {},
   "outputs": [
    {
     "data": {
      "text/plain": [
       "'0084d6fb28b1f60316f62ffd8f8f6d81b896c51e883f909085'"
      ]
     },
     "execution_count": 17,
     "metadata": {},
     "output_type": "execute_result"
    }
   ],
   "source": [
    "'0084d6fb28b1f60316f62ffd8f8f6d81b896c51e88' + '3f909085'"
   ]
  },
  {
   "cell_type": "markdown",
   "id": "0d58a530",
   "metadata": {},
   "source": [
    "### Bitcoin Address - Convert Binary Bitcoin Address to Base58"
   ]
  },
  {
   "cell_type": "code",
   "execution_count": 18,
   "id": "b33d30c0",
   "metadata": {},
   "outputs": [
    {
     "data": {
      "text/plain": [
       "b'bSLwv2VXyx1nRAX5SBahw2t93GXJXkMXEcSNfRhQPD8uvMeootz5tKzRCCKKbvL2GrkC'"
      ]
     },
     "execution_count": 18,
     "metadata": {},
     "output_type": "execute_result"
    }
   ],
   "source": [
    "b58.b58encode('0084d6fb28b1f60316f62ffd8f8f6d81b896c51e883f909085')"
   ]
  },
  {
   "cell_type": "code",
   "execution_count": null,
   "id": "9eda264a",
   "metadata": {},
   "outputs": [],
   "source": []
  },
  {
   "cell_type": "markdown",
   "id": "45bd06f2",
   "metadata": {},
   "source": [
    "## Bitcoin Address"
   ]
  },
  {
   "cell_type": "code",
   "execution_count": 19,
   "id": "3f2d4382",
   "metadata": {},
   "outputs": [
    {
     "name": "stdout",
     "output_type": "stream",
     "text": [
      "My Bitcoin Address: bSLwv2VXyx1nRAX5SBahw2t93GXJXkMXEcSNfRhQPD8uvMeootz5tKzRCCKKbvL2GrkC\n"
     ]
    }
   ],
   "source": [
    "print('My Bitcoin Address: ' + 'bSLwv2VXyx1nRAX5SBahw2t93GXJXkMXEcSNfRhQPD8uvMeootz5tKzRCCKKbvL2GrkC')"
   ]
  },
  {
   "cell_type": "code",
   "execution_count": null,
   "id": "bb99534b",
   "metadata": {},
   "outputs": [],
   "source": []
  },
  {
   "cell_type": "markdown",
   "id": "4aad00f9",
   "metadata": {},
   "source": [
    "# Encryption and Signing\n",
    "\n",
    "### Hashing"
   ]
  },
  {
   "cell_type": "code",
   "execution_count": 34,
   "id": "b9169278",
   "metadata": {},
   "outputs": [
    {
     "data": {
      "text/plain": [
       "'37b1850c29d35db0ed6f02a8384ca2472a87a68d677ac1ed0dd5d1b243d1549ccdf029c565bc820151dab0cfa4ba5aebf62b892c9bd3d4bb2232d780323758bf5882818ad1f406b40657af7956fdaa23df6235f2ee567552c2a2fe8e0f1782fec560761daa42ad23643290f5623b0817edc00a9f17add006866716d9583646bf2562da0c726c84a719c0fa082a54e6c4cfa419d7e7c295b4b43d340e714a1c05c74fe07a7f4de6dfc0b593098fc34118072ff4c78c270fe95c426ad1caf2a08aa404d30d7f0e3c370a3ac447dcd17ecf6901c85644e809240c4c0e6dc7977f60ba6efaa153742a958c69d2469f819dfc708b06ea91587cfcc0c3579b04edfe34'"
      ]
     },
     "execution_count": 34,
     "metadata": {},
     "output_type": "execute_result"
    }
   ],
   "source": [
    "cipher = PKCS1_v1_5.new(pub_key)\n",
    "ciphertext = cipher.encrypt(b'Muhammad Maaz Ul Haque')\n",
    "ciphertext.hex()"
   ]
  },
  {
   "cell_type": "markdown",
   "id": "a66826b6",
   "metadata": {},
   "source": [
    "### Signature"
   ]
  },
  {
   "cell_type": "code",
   "execution_count": 31,
   "id": "ffd3e802",
   "metadata": {},
   "outputs": [
    {
     "ename": "TypeError",
     "evalue": "PKCS115_SigScheme.sign() missing 1 required positional argument: 'msg_hash'",
     "output_type": "error",
     "traceback": [
      "\u001b[1;31m---------------------------------------------------------------------------\u001b[0m",
      "\u001b[1;31mTypeError\u001b[0m                                 Traceback (most recent call last)",
      "\u001b[1;32mC:\\Users\\MAAZ~1.HAQ\\AppData\\Local\\Temp/ipykernel_3848/2958294271.py\u001b[0m in \u001b[0;36m<module>\u001b[1;34m\u001b[0m\n\u001b[0;32m      1\u001b[0m \u001b[0msignature\u001b[0m \u001b[1;33m=\u001b[0m \u001b[0mpkcs1_15\u001b[0m\u001b[1;33m.\u001b[0m\u001b[0mnew\u001b[0m\u001b[1;33m(\u001b[0m\u001b[0mpvt_key\u001b[0m\u001b[1;33m)\u001b[0m\u001b[1;33m\u001b[0m\u001b[1;33m\u001b[0m\u001b[0m\n\u001b[1;32m----> 2\u001b[1;33m \u001b[0msignature\u001b[0m\u001b[1;33m.\u001b[0m\u001b[0msign\u001b[0m\u001b[1;33m(\u001b[0m\u001b[1;33m)\u001b[0m\u001b[1;33m\u001b[0m\u001b[1;33m\u001b[0m\u001b[0m\n\u001b[0m",
      "\u001b[1;31mTypeError\u001b[0m: PKCS115_SigScheme.sign() missing 1 required positional argument: 'msg_hash'"
     ]
    }
   ],
   "source": [
    "signature = pkcs1_15.new(pvt_key)\n",
    "signature.sign()"
   ]
  },
  {
   "cell_type": "code",
   "execution_count": null,
   "id": "f987caa5",
   "metadata": {},
   "outputs": [],
   "source": []
  },
  {
   "cell_type": "code",
   "execution_count": null,
   "id": "4932a3e8",
   "metadata": {},
   "outputs": [],
   "source": []
  },
  {
   "cell_type": "code",
   "execution_count": null,
   "id": "45651e56",
   "metadata": {},
   "outputs": [],
   "source": []
  }
 ],
 "metadata": {
  "kernelspec": {
   "display_name": "Python 3 (ipykernel)",
   "language": "python",
   "name": "python3"
  },
  "language_info": {
   "codemirror_mode": {
    "name": "ipython",
    "version": 3
   },
   "file_extension": ".py",
   "mimetype": "text/x-python",
   "name": "python",
   "nbconvert_exporter": "python",
   "pygments_lexer": "ipython3",
   "version": "3.10.0"
  }
 },
 "nbformat": 4,
 "nbformat_minor": 5
}
